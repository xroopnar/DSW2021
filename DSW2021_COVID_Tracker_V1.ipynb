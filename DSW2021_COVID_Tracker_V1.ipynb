{
  "nbformat": 4,
  "nbformat_minor": 0,
  "metadata": {
    "kernelspec": {
      "display_name": "Python 3",
      "language": "python",
      "name": "python3"
    },
    "language_info": {
      "codemirror_mode": {
        "name": "ipython",
        "version": 3
      },
      "file_extension": ".py",
      "mimetype": "text/x-python",
      "name": "python",
      "nbconvert_exporter": "python",
      "pygments_lexer": "ipython3",
      "version": "3.8.3"
    },
    "colab": {
      "name": "DSW2021_COVID_Tracker_V1.ipynb",
      "provenance": [],
      "collapsed_sections": []
    }
  },
  "cells": [
    {
      "cell_type": "code",
      "metadata": {
        "id": "oPErdmqy3pWO",
        "colab": {
          "base_uri": "https://localhost:8080/"
        },
        "outputId": "a4c4bbd2-584a-4851-a635-5310ff3f1669"
      },
      "source": [
        "pip install jupyter-dash -q"
      ],
      "execution_count": 1,
      "outputs": [
        {
          "output_type": "stream",
          "name": "stdout",
          "text": [
            "\u001b[K     |████████████████████████████████| 7.3 MB 5.7 MB/s \n",
            "\u001b[K     |████████████████████████████████| 23.9 MB 13 kB/s \n",
            "\u001b[K     |████████████████████████████████| 357 kB 51.7 MB/s \n",
            "\u001b[?25h  Building wheel for dash-core-components (setup.py) ... \u001b[?25l\u001b[?25hdone\n",
            "  Building wheel for dash-html-components (setup.py) ... \u001b[?25l\u001b[?25hdone\n",
            "  Building wheel for dash-table (setup.py) ... \u001b[?25l\u001b[?25hdone\n"
          ]
        }
      ]
    },
    {
      "cell_type": "code",
      "metadata": {
        "id": "L2wQC8cg4SgI",
        "colab": {
          "base_uri": "https://localhost:8080/",
          "height": 807
        },
        "outputId": "26bb8276-ce8b-43f4-c63a-9761e6251930"
      },
      "source": [
        "from jupyter_dash import JupyterDash  # pip install dash\n",
        "#import dash_cytoscape as cyto  # pip install dash-cytoscape==0.2.0 or higher\n",
        "import dash_html_components as html\n",
        "import dash_core_components as dcc\n",
        "from dash.dependencies import Output, Input\n",
        "import pandas as pd  # pip install pandas\n",
        "import plotly.express as px\n",
        "import math\n",
        "from dash import no_update\n",
        "\n",
        "from urllib.request import urlopen\n",
        "import json\n",
        "\n",
        "############## LOADING APP DATA\n",
        "\n",
        "with urlopen('https://raw.githubusercontent.com/plotly/datasets/master/geojson-counties-fips.json') as response:\n",
        "    counties = json.load(response)\n",
        "\n",
        "#state codes\n",
        "abbr = pd.read_csv(\"https://raw.githubusercontent.com/xroopnar/DSW2021/main/data/abbr-name.csv\",index_col=False,header=None)\n",
        "abbr.columns = [\"state\",\"location\"]\n",
        "\n",
        "#for the county-level state vaccination percentages\n",
        "us = pd.read_csv(\"https://raw.githubusercontent.com/xroopnar/DSW2021/main/data/us_vaccine_9month.csv\",index_col=0,dtype={\"FIPS\":str})\n",
        "\n",
        "#for comparing new case count to vaccination percentage in bubble plot over time \n",
        "#cases = pd.read_csv(\"https://raw.githubusercontent.com/xroopnar/DSW2021/main/data/us_9month_covid_cases.csv\",index_col=0)\n",
        "#vacc = pd.read_csv(\"https://raw.githubusercontent.com/xroopnar/DSW2021/main/data/us_state_vaccinations.csv\",index_col=False)\n",
        "#vacc = vacc.merge(abbr,on=\"location\",how=\"left\")\n",
        "\n",
        "#worldwide country covid cases\n",
        "#world = pd.read_csv(\"https://raw.githubusercontent.com/xroopnar/DSW2021/main/data/WHO%20COVID-19%20global%20table%20data%20September%2011th%202021%20at%205.52.31%20PM.csv\",index_col=False)\n",
        "\n",
        "app = JupyterDash(__name__)\n",
        "\n",
        "############### APP LAYOUT \n",
        "\n",
        "app.layout = html.Div([\n",
        "    html.H1(\"COVID-19 Vaccination Tracker\"),\n",
        "    html.Div([\n",
        "        dcc.Dropdown(\n",
        "            id='ok-dropdown',\n",
        "            value=us.columns[4],\n",
        "            #clearable=False,\n",
        "            options=[\n",
        "                {'label': x, 'value': x}\n",
        "                for x in us.columns[4:]\n",
        "            ]),\n",
        "        dcc.Dropdown(id=\"ok-date\",\n",
        "            value = us.Date.unique()[0],\n",
        "            #clearable=False,\n",
        "            options=[\n",
        "                    {\"label\": x,\"value\": x}\n",
        "                    for x in us.Date.unique()\n",
        "            ]),\n",
        "        dcc.Dropdown(id=\"state-map-dropdown\",\n",
        "            value = \"OK\",\n",
        "            #clearable=False,\n",
        "            options=[\n",
        "                    {\"label\": x,\"value\": x}\n",
        "                    for x in us.Recip_State.sort_values().unique()\n",
        "            ])        \n",
        "        ],style={'width': '30%', 'display': 'inline-block'}),\n",
        "    dcc.Graph(id=\"ok-map\"),\n",
        "    html.Div([dcc.Dropdown(\n",
        "        id=\"state-time-dropdown\",\n",
        "        value=\"OK\",\n",
        "        options=[\n",
        "                 {\"label\":value,\"value\":value}\n",
        "                 for value in us.Recip_State.unique()\n",
        "                ]\n",
        "        )],style={'width': '30%', 'display': 'inline-block'}),\n",
        "    dcc.Graph(id=\"state-bar\")\n",
        "])\n",
        "\n",
        "@app.callback(Output('ok-map', 'figure'),\n",
        "              Input('ok-dropdown', 'value'),\n",
        "              Input(\"ok-date\",\"value\"),\n",
        "              Input(\"state-map-dropdown\",\"value\"))\n",
        "def update_us_map(value,date,state):\n",
        "\n",
        "  fig = px.choropleth(us[(us.Date==date) & (us.Recip_State==state)], geojson=counties, locations='FIPS', color=value,\n",
        "                           color_continuous_scale=\"Viridis\",\n",
        "                           range_color=(0, 100),\n",
        "                           scope=\"usa\",\n",
        "                           #labels={\"Series_Complete_Pop_Pct\":'Percent Vaccinated',\"Recip_County\":\"County\",\"Recip_State\":\"State\"},\n",
        "                           hover_data={\"FIPS\":False,\"Recip_County\":True,\"Recip_State\":True},\n",
        "                           #use fitbounds when looking at a singular state instead of entire USA\n",
        "                           #otherwise exclude fitbounds\n",
        "                           fitbounds=\"locations\",\n",
        "                           title=\"Hello world\"\n",
        "                          )\n",
        "\n",
        "  fig.update_layout(margin={\"r\":0,\"t\":0,\"l\":0,\"b\":0},transition_duration=500)\n",
        "\n",
        "  return(fig)\n",
        "\n",
        "@app.callback(Output(\"state-bar\",\"figure\"),\n",
        "              Input(\"state-time-dropdown\",\"value\"))\n",
        "def update_state_time(value):\n",
        "\n",
        "  fig = px.line(us[us.Recip_State==value].sort_values(by=\"Date\",ascending=True),x=\"Date\",y=\"Series_Complete_Pop_Pct\",line_group=\"Recip_County\",color=\"Recip_County\")\n",
        "  fig.update_layout(margin={\"r\":0,\"t\":0,\"l\":0,\"b\":0},transition_duration=500)\n",
        "  return(fig)\n",
        "\n",
        "app.run_server(mode='inline', port=8030)\n"
      ],
      "execution_count": 2,
      "outputs": [
        {
          "output_type": "stream",
          "name": "stderr",
          "text": [
            "/usr/local/lib/python3.7/dist-packages/ipykernel_launcher.py:3: UserWarning: \n",
            "The dash_html_components package is deprecated. Please replace\n",
            "`import dash_html_components as html` with `from dash import html`\n",
            "  This is separate from the ipykernel package so we can avoid doing imports until\n",
            "/usr/local/lib/python3.7/dist-packages/ipykernel_launcher.py:4: UserWarning: \n",
            "The dash_core_components package is deprecated. Please replace\n",
            "`import dash_core_components as dcc` with `from dash import dcc`\n",
            "  after removing the cwd from sys.path.\n"
          ]
        },
        {
          "output_type": "display_data",
          "data": {
            "application/javascript": [
              "(async (port, path, width, height, cache, element) => {\n",
              "    if (!google.colab.kernel.accessAllowed && !cache) {\n",
              "      return;\n",
              "    }\n",
              "    element.appendChild(document.createTextNode(''));\n",
              "    const url = await google.colab.kernel.proxyPort(port, {cache});\n",
              "    const iframe = document.createElement('iframe');\n",
              "    iframe.src = new URL(path, url).toString();\n",
              "    iframe.height = height;\n",
              "    iframe.width = width;\n",
              "    iframe.style.border = 0;\n",
              "    element.appendChild(iframe);\n",
              "  })(8030, \"/\", \"100%\", 650, false, window.element)"
            ],
            "text/plain": [
              "<IPython.core.display.Javascript object>"
            ]
          },
          "metadata": {}
        }
      ]
    },
    {
      "cell_type": "code",
      "metadata": {
        "id": "WLu3Q9w1_cvK"
      },
      "source": [
        ""
      ],
      "execution_count": null,
      "outputs": []
    }
  ]
}