{
  "nbformat": 4,
  "nbformat_minor": 0,
  "metadata": {
    "kernelspec": {
      "display_name": "Python 3",
      "language": "python",
      "name": "python3"
    },
    "language_info": {
      "codemirror_mode": {
        "name": "ipython",
        "version": 3
      },
      "file_extension": ".py",
      "mimetype": "text/x-python",
      "name": "python",
      "nbconvert_exporter": "python",
      "pygments_lexer": "ipython3",
      "version": "3.8.3"
    },
    "colab": {
      "name": "DSW2021_COVID_Tracker_V2.ipynb",
      "provenance": [],
      "collapsed_sections": []
    }
  },
  "cells": [
    {
      "cell_type": "code",
      "metadata": {
        "id": "oPErdmqy3pWO",
        "colab": {
          "base_uri": "https://localhost:8080/"
        },
        "outputId": "c5cccac6-9f85-499d-e3dd-c5adf71435d6"
      },
      "source": [
        "pip install jupyter-dash -q"
      ],
      "execution_count": 1,
      "outputs": [
        {
          "output_type": "stream",
          "name": "stdout",
          "text": [
            "\u001b[K     |████████████████████████████████| 7.3 MB 29.0 MB/s \n",
            "\u001b[K     |████████████████████████████████| 23.9 MB 13 kB/s \n",
            "\u001b[K     |████████████████████████████████| 357 kB 52.3 MB/s \n",
            "\u001b[?25h  Building wheel for dash-core-components (setup.py) ... \u001b[?25l\u001b[?25hdone\n",
            "  Building wheel for dash-html-components (setup.py) ... \u001b[?25l\u001b[?25hdone\n",
            "  Building wheel for dash-table (setup.py) ... \u001b[?25l\u001b[?25hdone\n"
          ]
        }
      ]
    },
    {
      "cell_type": "code",
      "metadata": {
        "colab": {
          "base_uri": "https://localhost:8080/"
        },
        "id": "o-dP1ML931Qk",
        "outputId": "4f74e754-e0d8-457d-9036-7586df5c10b9"
      },
      "source": [
        "pip install dash_bootstrap_components"
      ],
      "execution_count": 2,
      "outputs": [
        {
          "output_type": "stream",
          "name": "stdout",
          "text": [
            "Collecting dash_bootstrap_components\n",
            "  Downloading dash_bootstrap_components-0.13.0-py3-none-any.whl (197 kB)\n",
            "\u001b[?25l\r\u001b[K     |█▋                              | 10 kB 24.7 MB/s eta 0:00:01\r\u001b[K     |███▎                            | 20 kB 27.5 MB/s eta 0:00:01\r\u001b[K     |█████                           | 30 kB 30.3 MB/s eta 0:00:01\r\u001b[K     |██████▋                         | 40 kB 32.2 MB/s eta 0:00:01\r\u001b[K     |████████▎                       | 51 kB 33.7 MB/s eta 0:00:01\r\u001b[K     |██████████                      | 61 kB 34.9 MB/s eta 0:00:01\r\u001b[K     |███████████▋                    | 71 kB 33.9 MB/s eta 0:00:01\r\u001b[K     |█████████████▎                  | 81 kB 34.6 MB/s eta 0:00:01\r\u001b[K     |███████████████                 | 92 kB 36.5 MB/s eta 0:00:01\r\u001b[K     |████████████████▋               | 102 kB 37.7 MB/s eta 0:00:01\r\u001b[K     |██████████████████▎             | 112 kB 37.7 MB/s eta 0:00:01\r\u001b[K     |████████████████████            | 122 kB 37.7 MB/s eta 0:00:01\r\u001b[K     |█████████████████████▋          | 133 kB 37.7 MB/s eta 0:00:01\r\u001b[K     |███████████████████████▎        | 143 kB 37.7 MB/s eta 0:00:01\r\u001b[K     |█████████████████████████       | 153 kB 37.7 MB/s eta 0:00:01\r\u001b[K     |██████████████████████████▌     | 163 kB 37.7 MB/s eta 0:00:01\r\u001b[K     |████████████████████████████▏   | 174 kB 37.7 MB/s eta 0:00:01\r\u001b[K     |█████████████████████████████▉  | 184 kB 37.7 MB/s eta 0:00:01\r\u001b[K     |███████████████████████████████▌| 194 kB 37.7 MB/s eta 0:00:01\r\u001b[K     |████████████████████████████████| 197 kB 37.7 MB/s \n",
            "\u001b[?25hRequirement already satisfied: dash>=1.9.0 in /usr/local/lib/python3.7/dist-packages (from dash_bootstrap_components) (2.0.0)\n",
            "Requirement already satisfied: plotly>=5.0.0 in /usr/local/lib/python3.7/dist-packages (from dash>=1.9.0->dash_bootstrap_components) (5.3.1)\n",
            "Requirement already satisfied: Flask>=1.0.4 in /usr/local/lib/python3.7/dist-packages (from dash>=1.9.0->dash_bootstrap_components) (1.1.4)\n",
            "Requirement already satisfied: flask-compress in /usr/local/lib/python3.7/dist-packages (from dash>=1.9.0->dash_bootstrap_components) (1.10.1)\n",
            "Requirement already satisfied: dash-core-components==2.0.0 in /usr/local/lib/python3.7/dist-packages (from dash>=1.9.0->dash_bootstrap_components) (2.0.0)\n",
            "Requirement already satisfied: dash-table==5.0.0 in /usr/local/lib/python3.7/dist-packages (from dash>=1.9.0->dash_bootstrap_components) (5.0.0)\n",
            "Requirement already satisfied: dash-html-components==2.0.0 in /usr/local/lib/python3.7/dist-packages (from dash>=1.9.0->dash_bootstrap_components) (2.0.0)\n",
            "Requirement already satisfied: itsdangerous<2.0,>=0.24 in /usr/local/lib/python3.7/dist-packages (from Flask>=1.0.4->dash>=1.9.0->dash_bootstrap_components) (1.1.0)\n",
            "Requirement already satisfied: click<8.0,>=5.1 in /usr/local/lib/python3.7/dist-packages (from Flask>=1.0.4->dash>=1.9.0->dash_bootstrap_components) (7.1.2)\n",
            "Requirement already satisfied: Werkzeug<2.0,>=0.15 in /usr/local/lib/python3.7/dist-packages (from Flask>=1.0.4->dash>=1.9.0->dash_bootstrap_components) (1.0.1)\n",
            "Requirement already satisfied: Jinja2<3.0,>=2.10.1 in /usr/local/lib/python3.7/dist-packages (from Flask>=1.0.4->dash>=1.9.0->dash_bootstrap_components) (2.11.3)\n",
            "Requirement already satisfied: MarkupSafe>=0.23 in /usr/local/lib/python3.7/dist-packages (from Jinja2<3.0,>=2.10.1->Flask>=1.0.4->dash>=1.9.0->dash_bootstrap_components) (2.0.1)\n",
            "Requirement already satisfied: tenacity>=6.2.0 in /usr/local/lib/python3.7/dist-packages (from plotly>=5.0.0->dash>=1.9.0->dash_bootstrap_components) (8.0.1)\n",
            "Requirement already satisfied: six in /usr/local/lib/python3.7/dist-packages (from plotly>=5.0.0->dash>=1.9.0->dash_bootstrap_components) (1.15.0)\n",
            "Requirement already satisfied: brotli in /usr/local/lib/python3.7/dist-packages (from flask-compress->dash>=1.9.0->dash_bootstrap_components) (1.0.9)\n",
            "Installing collected packages: dash-bootstrap-components\n",
            "Successfully installed dash-bootstrap-components-0.13.0\n"
          ]
        }
      ]
    },
    {
      "cell_type": "code",
      "metadata": {
        "id": "L2wQC8cg4SgI",
        "colab": {
          "base_uri": "https://localhost:8080/",
          "height": 671
        },
        "outputId": "4f77d226-ff76-409c-ad2a-54111de2a007"
      },
      "source": [
        "from jupyter_dash import JupyterDash  # pip install dash\n",
        "import dash_html_components as html\n",
        "import dash_core_components as dcc\n",
        "import dash_bootstrap_components as dbc\n",
        "from dash.dependencies import Output, Input\n",
        "import pandas as pd  # pip install pandas\n",
        "import plotly.express as px\n",
        "import math\n",
        "from dash import no_update\n",
        "\n",
        "from urllib.request import urlopen\n",
        "import json\n",
        "\n",
        "############## LOADING APP DATA\n",
        "\n",
        "with urlopen('https://raw.githubusercontent.com/plotly/datasets/master/geojson-counties-fips.json') as response:\n",
        "    counties = json.load(response)\n",
        "\n",
        "#state codes\n",
        "abbr = pd.read_csv(\"https://raw.githubusercontent.com/xroopnar/DSW2021/main/data/abbr-name.csv\",index_col=False,header=None)\n",
        "abbr.columns = [\"state\",\"location\"]\n",
        "\n",
        "#for the county-level state vaccination percentages\n",
        "us = pd.read_csv(\"https://raw.githubusercontent.com/xroopnar/DSW2021/main/data/us_vaccine_9month.csv\",index_col=0,dtype={\"FIPS\":str})\n",
        "\n",
        "#for comparing new case count to vaccination percentage in bubble plot over time \n",
        "#cases = pd.read_csv(\"https://raw.githubusercontent.com/xroopnar/DSW2021/main/data/us_9month_covid_cases.csv\",index_col=0)\n",
        "#vacc = pd.read_csv(\"https://raw.githubusercontent.com/xroopnar/DSW2021/main/data/us_state_vaccinations.csv\",index_col=False)\n",
        "#vacc = vacc.merge(abbr,on=\"location\",how=\"left\")\n",
        "\n",
        "#worldwide country covid cases\n",
        "#world = pd.read_csv(\"https://raw.githubusercontent.com/xroopnar/DSW2021/main/data/WHO%20COVID-19%20global%20table%20data%20September%2011th%202021%20at%205.52.31%20PM.csv\",index_col=False)\n",
        "\n",
        "app = JupyterDash(__name__, external_stylesheets=[dbc.themes.BOOTSTRAP],\n",
        "                meta_tags=[{'name': 'viewport',\n",
        "                            'content': 'width=device-width, initial-scale=1.0'}]\n",
        "                )\n",
        "\n",
        "############### APP LAYOUT \n",
        "\n",
        "#color management\n",
        "colors = {\n",
        "    'background': '#6882e8',\n",
        "    'bodyColor':'#F2DFCE',\n",
        "    'text': '#ffffff'\n",
        "}\n",
        "\n",
        "app.layout = dbc.Container([\n",
        "    dbc.Row([\n",
        "    dbc.Col(html.H1(\"COVID-19 Vaccination Tracker\",style={'color': colors['text'],\"textAlign\":\"center\"}))\n",
        "    ],align=\"center\",style={'backgroundColor': colors['background'],\"margin-bottom\":\"10px\"}),\n",
        "    dbc.Row([\n",
        "             dbc.Col([dcc.Graph(id=\"ok-map\")],width=8),\n",
        "             dbc.Col([dcc.Graph(id=\"state-bar\")])\n",
        "    ]),\n",
        "    dbc.Row([\n",
        "             dbc.Col([\n",
        "        dcc.Dropdown(\n",
        "            id='ok-dropdown',\n",
        "            value=us.columns[4],\n",
        "            #clearable=False,\n",
        "            options=[\n",
        "                     {'label': x[1], 'value': x[0]}\n",
        "                     for x in {\"Series_Complete_Pop_Pct\":'% Vaccinated',\"Series_Complete_12PlusPop_Pct\":'% Vaccinated (12+)',\"Series_Complete_18PlusPop_Pct\":'% Vaccinated (18+)',\"Series_Complete_65PlusPop_Pct\":'% Vaccinated (65+)'}.items()\n",
        "            ],style={\"width\": \"60%\"}),\n",
        "        dcc.Dropdown(id=\"ok-date\",\n",
        "            value = us.Date.unique()[0],\n",
        "            #clearable=False,\n",
        "            options=[\n",
        "                    {\"label\": x,\"value\": x}\n",
        "                    for x in us.Date.unique()\n",
        "            ],style={\"width\": \"60%\"}),\n",
        "        dcc.Dropdown(id=\"state-map-dropdown\",\n",
        "            value = \"OK\",\n",
        "            #clearable=False,\n",
        "            options=[\n",
        "                    {\"label\": x,\"value\": x}\n",
        "                    for x in us.Recip_State.sort_values().unique()\n",
        "            ],style={\"width\": \"60%\"}),\n",
        "    #dcc.Graph(id=\"ok-map\"),\n",
        "    ],width=8),\n",
        "    dbc.Col([\n",
        "    dcc.Dropdown(\n",
        "        id=\"state-time-dropdown\",\n",
        "        value=\"OK\",\n",
        "        options=[\n",
        "                 {\"label\":value,\"value\":value}\n",
        "                 for value in us.Recip_State.unique()\n",
        "                ]\n",
        "        ),\n",
        "    dcc.Dropdown(\n",
        "        id=\"state-count-dropdown\",\n",
        "        value=10,\n",
        "        options=[\n",
        "                 {\"label\":value,\"value\":value}\n",
        "                 for value in list(range(1,21))\n",
        "                ]\n",
        "        ),\n",
        "    #dcc.Graph(id=\"state-bar\")\n",
        "    ])\n",
        "    ]),\n",
        "])\n",
        "\n",
        "@app.callback(Output('ok-map', 'figure'),\n",
        "              Input('ok-dropdown', 'value'),\n",
        "              Input(\"ok-date\",\"value\"),\n",
        "              Input(\"state-map-dropdown\",\"value\"))\n",
        "def update_us_map(value,date,state):\n",
        "\n",
        "  fig = px.choropleth(us[(us.Date==date) & (us.Recip_State==state)], geojson=counties, locations='FIPS', color=value,\n",
        "                           color_continuous_scale=\"Viridis\",\n",
        "                           range_color=(0, 100),\n",
        "                           scope=\"usa\",\n",
        "                           labels={\"Series_Complete_Pop_Pct\":'%',\"Series_Complete_12PlusPop_Pct\":'%',\"Series_Complete_18PlusPop_Pct\":'%',\"Series_Complete_65PlusPop_Pct\":'%',\"Recip_County\":\"County\",\"Recip_State\":\"State\"},\n",
        "                           hover_data={\"FIPS\":False,\"Recip_County\":True,\"Recip_State\":False},\n",
        "                           #use fitbounds when looking at a singular state instead of entire USA\n",
        "                           #otherwise exclude fitbounds\n",
        "                           fitbounds=\"locations\",\n",
        "                           title=\"Hello world\"\n",
        "                          )\n",
        "\n",
        "  fig.update_layout(margin={\"r\":0,\"t\":0,\"l\":0,\"b\":0},transition_duration=500)\n",
        "\n",
        "  return(fig)\n",
        "\n",
        "@app.callback(Output(\"state-bar\",\"figure\"),\n",
        "              Input(\"state-time-dropdown\",\"value\"),\n",
        "              Input(\"state-count-dropdown\",\"value\"))\n",
        "def update_state_time(value,n):\n",
        "  #n=10\n",
        "  df = us[us.Recip_State==value].sort_values(by=\"Date\",ascending=True)\n",
        "  df = df[df.Recip_County.isin(df.Recip_County.unique()[0:n])]\n",
        "  fig = px.line(df,x=\"Date\",y=\"Series_Complete_Pop_Pct\",line_group=\"Recip_County\",color=\"Recip_County\")\n",
        "  fig.update_layout(margin={\"r\":0,\"t\":0,\"l\":0,\"b\":0},transition_duration=500)\n",
        "  return(fig)\n",
        "\n",
        "app.run_server(mode='inline', port=8030)\n"
      ],
      "execution_count": 12,
      "outputs": [
        {
          "output_type": "display_data",
          "data": {
            "application/javascript": [
              "(async (port, path, width, height, cache, element) => {\n",
              "    if (!google.colab.kernel.accessAllowed && !cache) {\n",
              "      return;\n",
              "    }\n",
              "    element.appendChild(document.createTextNode(''));\n",
              "    const url = await google.colab.kernel.proxyPort(port, {cache});\n",
              "    const iframe = document.createElement('iframe');\n",
              "    iframe.src = new URL(path, url).toString();\n",
              "    iframe.height = height;\n",
              "    iframe.width = width;\n",
              "    iframe.style.border = 0;\n",
              "    element.appendChild(iframe);\n",
              "  })(8030, \"/\", \"100%\", 650, false, window.element)"
            ],
            "text/plain": [
              "<IPython.core.display.Javascript object>"
            ]
          },
          "metadata": {}
        }
      ]
    },
    {
      "cell_type": "code",
      "metadata": {
        "id": "ZKr0IziGCE2Q"
      },
      "source": [
        ""
      ],
      "execution_count": null,
      "outputs": []
    }
  ]
}