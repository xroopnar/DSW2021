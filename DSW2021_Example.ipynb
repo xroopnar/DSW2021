{
  "nbformat": 4,
  "nbformat_minor": 0,
  "metadata": {
    "colab": {
      "name": "DSW2021_Example.ipynb",
      "provenance": []
    },
    "kernelspec": {
      "name": "python3",
      "display_name": "Python 3"
    },
    "language_info": {
      "name": "python"
    }
  },
  "cells": [
    {
      "cell_type": "code",
      "metadata": {
        "id": "4Yv_fiSbX9dz"
      },
      "source": [
        "pip install jupyter-dash -q"
      ],
      "execution_count": 22,
      "outputs": []
    },
    {
      "cell_type": "code",
      "metadata": {
        "id": "FLwCOIziX-ZE",
        "colab": {
          "base_uri": "https://localhost:8080/",
          "height": 671
        },
        "outputId": "e3579606-7116-4bb1-be3a-2b893bed0e6e"
      },
      "source": [
        "from jupyter_dash import JupyterDash  # pip install dash\n",
        "#import dash_cytoscape as cyto  # pip install dash-cytoscape==0.2.0 or higher\n",
        "import dash_html_components as html\n",
        "import dash_core_components as dcc\n",
        "import dash_bootstrap_components as dbc \n",
        "from dash.dependencies import Output, Input\n",
        "import pandas as pd  # pip install pandas\n",
        "import plotly.express as px\n",
        "import math\n",
        "from dash import no_update\n",
        "\n",
        "from urllib.request import urlopen\n",
        "import json\n",
        "\n",
        "# Step 1 (optional): Load data\n",
        "# You an also do this in the callbacks, but it may affect your app's performance \n",
        "\n",
        "labels = pd.read_csv(\"https://raw.githubusercontent.com/xroopnar/SPUG2019/master/SPUG_labels.csv\",index_col=0).astype(str)\n",
        "\n",
        "# Step 2: Define Layout\n",
        "\n",
        "#Use Dash Core components to create the structure of the app\n",
        "#designate where graphics and reactive components are located \n",
        "\n",
        "#load external stylesheets if desired\n",
        "external_stylesheets = ['https://codepen.io/chriddyp/pen/bWLwgP.css']\n",
        "app = JupyterDash(__name__, external_stylesheets=external_stylesheets)\n",
        "\n",
        "app.layout = html.Div([\n",
        "          html.H1(\"Example Interactive Plot\"),\n",
        "          dcc.Dropdown(\n",
        "              id=\"data-radio\",\n",
        "              value = labels.columns[-1],\n",
        "              options=[\n",
        "                    {\"label\": x,\"value\": x}\n",
        "                    for x in labels.columns\n",
        "                    ]              \n",
        "          ),\n",
        "          dcc.Graph(id=\"data-plot\"),\n",
        "          dcc.Slider(id=\"data-slider\",\n",
        "              min=3,\n",
        "              max=20,\n",
        "              step=1,\n",
        "              value=10,\n",
        "              marks = {i:str(i) for i in list(range(1,21))}\n",
        "          )\n",
        "])\n",
        "\n",
        "#Step 3: Define Callbacks \n",
        "#the code that will modify \n",
        "\n",
        "@app.callback(Output(\"data-plot\",\"figure\"),\n",
        "              Input(\"data-radio\",\"value\"),\n",
        "              Input(\"data-slider\",\"value\"))\n",
        "def update_fig(value,n):\n",
        "  if value == \"Age\":\n",
        "    df = labels[value].value_counts()\n",
        "    fig = px.histogram(df)\n",
        "  else:\n",
        "    df = labels[value].value_counts().sort_values(ascending=False)\n",
        "    try:\n",
        "      df = df.head(n)\n",
        "    except:\n",
        "      pass\n",
        "    fig = px.bar(df,orientation=\"h\")\n",
        "  return(fig)\n",
        "\n",
        "#Step 4: Run App\n",
        "#run the server, which will by default run on port 8030 on localhost\n",
        "#set the mode=\"inline\" when running withing a Jupyter or Colab notebook \n",
        "\n",
        "app.run_server(mode='inline', port=8031)"
      ],
      "execution_count": 34,
      "outputs": [
        {
          "output_type": "display_data",
          "data": {
            "application/javascript": [
              "(async (port, path, width, height, cache, element) => {\n",
              "    if (!google.colab.kernel.accessAllowed && !cache) {\n",
              "      return;\n",
              "    }\n",
              "    element.appendChild(document.createTextNode(''));\n",
              "    const url = await google.colab.kernel.proxyPort(port, {cache});\n",
              "    const iframe = document.createElement('iframe');\n",
              "    iframe.src = new URL(path, url).toString();\n",
              "    iframe.height = height;\n",
              "    iframe.width = width;\n",
              "    iframe.style.border = 0;\n",
              "    element.appendChild(iframe);\n",
              "  })(8031, \"/\", \"100%\", 650, false, window.element)"
            ],
            "text/plain": [
              "<IPython.core.display.Javascript object>"
            ]
          },
          "metadata": {}
        }
      ]
    },
    {
      "cell_type": "code",
      "metadata": {
        "id": "6wAvXDrnqm9n"
      },
      "source": [
        ""
      ],
      "execution_count": 24,
      "outputs": []
    }
  ]
}