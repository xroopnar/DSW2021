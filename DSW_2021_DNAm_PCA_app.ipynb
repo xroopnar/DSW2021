{
  "nbformat": 4,
  "nbformat_minor": 0,
  "metadata": {
    "colab": {
      "name": "DSW_2021_DNAm_PCA_app.ipynb",
      "provenance": [],
      "collapsed_sections": []
    },
    "kernelspec": {
      "name": "python3",
      "display_name": "Python 3"
    },
    "language_info": {
      "name": "python"
    }
  },
  "cells": [
    {
      "cell_type": "code",
      "metadata": {
        "id": "cxM-5_vcCOl6"
      },
      "source": [
        "pip install jupyter-dash -q"
      ],
      "execution_count": 11,
      "outputs": []
    },
    {
      "cell_type": "code",
      "metadata": {
        "colab": {
          "base_uri": "https://localhost:8080/"
        },
        "id": "_Dvwo_1_3jE9",
        "outputId": "91664bf9-16ff-43d7-ef74-8e6b9c3d9251"
      },
      "source": [
        "pip install dash_bootstrap_components "
      ],
      "execution_count": 12,
      "outputs": [
        {
          "output_type": "stream",
          "name": "stdout",
          "text": [
            "Requirement already satisfied: dash_bootstrap_components in /usr/local/lib/python3.7/dist-packages (0.13.0)\n",
            "Requirement already satisfied: dash>=1.9.0 in /usr/local/lib/python3.7/dist-packages (from dash_bootstrap_components) (2.0.0)\n",
            "Requirement already satisfied: dash-html-components==2.0.0 in /usr/local/lib/python3.7/dist-packages (from dash>=1.9.0->dash_bootstrap_components) (2.0.0)\n",
            "Requirement already satisfied: plotly>=5.0.0 in /usr/local/lib/python3.7/dist-packages (from dash>=1.9.0->dash_bootstrap_components) (5.3.1)\n",
            "Requirement already satisfied: dash-table==5.0.0 in /usr/local/lib/python3.7/dist-packages (from dash>=1.9.0->dash_bootstrap_components) (5.0.0)\n",
            "Requirement already satisfied: Flask>=1.0.4 in /usr/local/lib/python3.7/dist-packages (from dash>=1.9.0->dash_bootstrap_components) (1.1.4)\n",
            "Requirement already satisfied: flask-compress in /usr/local/lib/python3.7/dist-packages (from dash>=1.9.0->dash_bootstrap_components) (1.10.1)\n",
            "Requirement already satisfied: dash-core-components==2.0.0 in /usr/local/lib/python3.7/dist-packages (from dash>=1.9.0->dash_bootstrap_components) (2.0.0)\n",
            "Requirement already satisfied: click<8.0,>=5.1 in /usr/local/lib/python3.7/dist-packages (from Flask>=1.0.4->dash>=1.9.0->dash_bootstrap_components) (7.1.2)\n",
            "Requirement already satisfied: itsdangerous<2.0,>=0.24 in /usr/local/lib/python3.7/dist-packages (from Flask>=1.0.4->dash>=1.9.0->dash_bootstrap_components) (1.1.0)\n",
            "Requirement already satisfied: Werkzeug<2.0,>=0.15 in /usr/local/lib/python3.7/dist-packages (from Flask>=1.0.4->dash>=1.9.0->dash_bootstrap_components) (1.0.1)\n",
            "Requirement already satisfied: Jinja2<3.0,>=2.10.1 in /usr/local/lib/python3.7/dist-packages (from Flask>=1.0.4->dash>=1.9.0->dash_bootstrap_components) (2.11.3)\n",
            "Requirement already satisfied: MarkupSafe>=0.23 in /usr/local/lib/python3.7/dist-packages (from Jinja2<3.0,>=2.10.1->Flask>=1.0.4->dash>=1.9.0->dash_bootstrap_components) (2.0.1)\n",
            "Requirement already satisfied: tenacity>=6.2.0 in /usr/local/lib/python3.7/dist-packages (from plotly>=5.0.0->dash>=1.9.0->dash_bootstrap_components) (8.0.1)\n",
            "Requirement already satisfied: six in /usr/local/lib/python3.7/dist-packages (from plotly>=5.0.0->dash>=1.9.0->dash_bootstrap_components) (1.15.0)\n",
            "Requirement already satisfied: brotli in /usr/local/lib/python3.7/dist-packages (from flask-compress->dash>=1.9.0->dash_bootstrap_components) (1.0.9)\n"
          ]
        }
      ]
    },
    {
      "cell_type": "code",
      "metadata": {
        "colab": {
          "base_uri": "https://localhost:8080/",
          "height": 671
        },
        "id": "SzQmT9iJCUC1",
        "outputId": "c5f61abf-f601-4cde-ed91-505145884dda"
      },
      "source": [
        "from jupyter_dash import JupyterDash  # pip install dash\n",
        "import dash_html_components as html\n",
        "import dash_core_components as dcc\n",
        "import dash_bootstrap_components as dbc\n",
        "from dash.dependencies import Output, Input\n",
        "import pandas as pd  # pip install pandas\n",
        "import plotly.express as px\n",
        "import math\n",
        "from dash import no_update\n",
        "\n",
        "from sklearn.decomposition import PCA \n",
        "\n",
        "####### LOADING DATA\n",
        "\n",
        "data = pd.read_csv(\"https://raw.githubusercontent.com/xroopnar/SPUG2019/master/SPUG_tiny_data.csv\",header=0,index_col=0)\n",
        "labels = pd.read_csv(\"https://raw.githubusercontent.com/xroopnar/SPUG2019/master/SPUG_labels.csv\",header=0,index_col=0).astype(str)\n",
        "data,labels = data.align(labels,axis=0,join=\"inner\")\n",
        "\n",
        "#prepare PCA\n",
        "pca = PCA(n_components=20)\n",
        "pc = pca.fit_transform(data)\n",
        "pc = pd.DataFrame(pc)\n",
        "pc.index = data.index\n",
        "\n",
        "####### APP LAYOUT\n",
        "\n",
        "colors = {\n",
        "    'background': '#eb3434',\n",
        "    'bodyColor':'#F2DFCE',\n",
        "    'text': '#ffffff'\n",
        "}\n",
        "\n",
        "app = JupyterDash(__name__, external_stylesheets=[dbc.themes.BOOTSTRAP],\n",
        "                meta_tags=[{'name': 'viewport',\n",
        "                            'content': 'width=device-width, initial-scale=1.0'}]\n",
        "                )\n",
        "\n",
        "app.layout = html.Div(dbc.Container([\n",
        "                       dbc.Row([\n",
        "                                dbc.Col([html.H1(\"GEO 450k data browser\",id=\"header\",style={\"color\":colors[\"text\"],\"margin-left\":\"5px\"})])\n",
        "                       ],align=\"center\",style={\"backgroundColor\":colors[\"background\"],\"margin-bottom\":\"10px\"}),\n",
        "                       dbc.Row([\n",
        "                           dbc.Col([\n",
        "                       html.H3(\"PCA Results\"),\n",
        "                       dcc.Dropdown(id=\"pca-color\",\n",
        "                                    value=\"ExperimentID\",\n",
        "                                    options=[\n",
        "                                            {\"label\": x,\"value\": x}\n",
        "                                            for x in labels.columns\n",
        "                                             ]\n",
        "                                    ),\n",
        "\n",
        "                       dcc.Graph(id=\"pca-plot\"),\n",
        "                           ]),\n",
        "                           dbc.Col([\n",
        "                       html.H3(\"TSS1500 Methylation\"),\n",
        "                       dcc.Dropdown(id=\"tissue-dropdown\",\n",
        "                                    value=\"brain\",\n",
        "                                    options=[\n",
        "                                            {\"label\": x,\"value\": x}\n",
        "                                            for x in labels.TissueName.unique()\n",
        "                                            ]\n",
        "                                    ),\n",
        "                       dcc.Graph(id=\"tissue-dist\")\n",
        "                           ])\n",
        "                       ])\n",
        "]))\n",
        "\n",
        "###### CALLBACKS\n",
        "\n",
        "@app.callback(\n",
        "              Output('pca-plot', 'figure'),\n",
        "              Input('pca-color', 'value'))\n",
        "def update_pca(value):\n",
        "  fig = px.scatter(pc,x=0,y=1,color=labels[value])\n",
        "  return(fig)\n",
        "\n",
        "@app.callback(\n",
        "              Output('tissue-dist', 'figure'),\n",
        "              Input('tissue-dropdown', 'value'))\n",
        "def update_tissue(value):\n",
        "  hits = labels[labels.TissueName==value].index\n",
        "  hits = data.loc[hits]\n",
        "  fig = px.histogram(data.sample(100).sample(100,axis=1).unstack())\n",
        "  return(fig)\n",
        "\n",
        "###### RUN APP\n",
        "\n",
        "app.run_server(mode='inline', port=8031)"
      ],
      "execution_count": 13,
      "outputs": [
        {
          "output_type": "display_data",
          "data": {
            "application/javascript": [
              "(async (port, path, width, height, cache, element) => {\n",
              "    if (!google.colab.kernel.accessAllowed && !cache) {\n",
              "      return;\n",
              "    }\n",
              "    element.appendChild(document.createTextNode(''));\n",
              "    const url = await google.colab.kernel.proxyPort(port, {cache});\n",
              "    const iframe = document.createElement('iframe');\n",
              "    iframe.src = new URL(path, url).toString();\n",
              "    iframe.height = height;\n",
              "    iframe.width = width;\n",
              "    iframe.style.border = 0;\n",
              "    element.appendChild(iframe);\n",
              "  })(8031, \"/\", \"100%\", 650, false, window.element)"
            ],
            "text/plain": [
              "<IPython.core.display.Javascript object>"
            ]
          },
          "metadata": {}
        }
      ]
    },
    {
      "cell_type": "code",
      "metadata": {
        "id": "s8xfHMy3srvZ"
      },
      "source": [
        ""
      ],
      "execution_count": null,
      "outputs": []
    }
  ]
}